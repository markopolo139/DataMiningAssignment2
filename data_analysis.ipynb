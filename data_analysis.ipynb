{
 "cells": [
  {
   "cell_type": "markdown",
   "metadata": {},
   "source": [
    "## DataMining Assignment 2"
   ]
  },
  {
   "cell_type": "markdown",
   "metadata": {},
   "source": [
    "Import a Python module named codeUtils using the alias cu. This module contains utility functions and methods that we'll use throughout our data mining project. Using an alias like cu makes it easier to reference the functions within the module in your subsequent code."
   ]
  },
  {
   "cell_type": "code",
   "execution_count": 22,
   "metadata": {},
   "outputs": [],
   "source": [
    "import codeUtils as cu\n",
    "from sklearn.preprocessing import StandardScaler\n",
    "from sklearn.metrics import pairwise_distances_argmin_min\n",
    "from sklearn.cluster import KMeans"
   ]
  },
  {
   "cell_type": "markdown",
   "metadata": {},
   "source": [
    "Loading our four datasets"
   ]
  },
  {
   "cell_type": "code",
   "execution_count": 3,
   "metadata": {},
   "outputs": [],
   "source": [
    "movies = cu.load_data('data/movies.csv')\n",
    "ratings = cu.load_data('data/ratings.csv')\n",
    "tags = cu.load_data('data/tags.csv')\n",
    "links = cu.load_data('data/links.csv')"
   ]
  },
  {
   "cell_type": "code",
   "execution_count": 4,
   "metadata": {},
   "outputs": [
    {
     "name": "stdout",
     "output_type": "stream",
     "text": [
      "Total number of Movies: 9742\n",
      "Total number of Users: 610\n"
     ]
    }
   ],
   "source": [
    "print(\"Total number of Movies: \"+str(len(movies)))\n",
    "print(\"Total number of Users: \"+str(ratings.userId.nunique()))\n"
   ]
  },
  {
   "cell_type": "markdown",
   "metadata": {},
   "source": [
    "## Managing the dataset"
   ]
  },
  {
   "cell_type": "markdown",
   "metadata": {},
   "source": [
    "### Note: From README.txt\n",
    "_Timestamps represent seconds since midnight Coordinated Universal Time (UTC) of January 1, 1970_\n",
    "\n",
    "In our case of study this attribute has no importance, so we will get rid of it"
   ]
  },
  {
   "cell_type": "code",
   "execution_count": 5,
   "metadata": {},
   "outputs": [],
   "source": [
    "cu.drop_columns(tags, ['timestamp'])\n",
    "cu.drop_columns(ratings, ['timestamp'])"
   ]
  },
  {
   "cell_type": "markdown",
   "metadata": {},
   "source": [
    "Merging data resulting in \"merged_data\" dataset contains consolidated information about movie ratings, movie details, and user-generated tags, which will be used for further analysis and processing."
   ]
  },
  {
   "cell_type": "code",
   "execution_count": 6,
   "metadata": {},
   "outputs": [],
   "source": [
    "merged_data = cu.merge_data(ratings, movies, 'movieId','inner')\n",
    "\n",
    "merged_data = cu.merge_data(merged_data, tags, ['userId','movieId'],'left')\n",
    "\n",
    "cu.drop_na(merged_data)\n",
    "cu.drop_duplicate(merged_data)\n"
   ]
  },
  {
   "cell_type": "markdown",
   "metadata": {},
   "source": [
    "The resulting \"merged_data\" dataset now includes the average rating information"
   ]
  },
  {
   "cell_type": "code",
   "execution_count": 7,
   "metadata": {},
   "outputs": [],
   "source": [
    "avreage_rating = cu.calculate_average(merged_data,'movieId','rating')\n",
    "\n",
    "merged_data = cu.merge_data(merged_data, avreage_rating, 'movieId','inner')\n"
   ]
  },
  {
   "cell_type": "markdown",
   "metadata": {},
   "source": [
    "Binarization of attributes representing each genre, allowing for easier analysis."
   ]
  },
  {
   "cell_type": "code",
   "execution_count": 8,
   "metadata": {},
   "outputs": [],
   "source": [
    "new_merged_data = cu.transform_attribute_to_multiple(merged_data, 'genres', '|')\n"
   ]
  },
  {
   "cell_type": "markdown",
   "metadata": {},
   "source": [
    "The columns being dropped are 'genres', 'title', and '(no genres listed)'. These columns are no longer needed after transforming the 'genres' attribute into binary attributes and are therefore dropped from the dataset, in order to the dataset contains only the relevant attributes."
   ]
  },
  {
   "cell_type": "code",
   "execution_count": 9,
   "metadata": {},
   "outputs": [],
   "source": [
    "cu.drop_columns(new_merged_data, ['genres', 'title', '(no genres listed)'])"
   ]
  },
  {
   "cell_type": "markdown",
   "metadata": {},
   "source": [
    "The 'tag' attribute contains categorical values that are transformed into numerical labels."
   ]
  },
  {
   "cell_type": "code",
   "execution_count": 10,
   "metadata": {},
   "outputs": [],
   "source": [
    "cu.drop_columns(new_merged_data, ['tag'])\n",
    "\n"
   ]
  },
  {
   "cell_type": "markdown",
   "metadata": {},
   "source": [
    "We add a new column total_genres to the new_merged_data DataFrame. This column counts the number of genres associated with each movie by summing the binary genre indicators across each row. "
   ]
  },
  {
   "cell_type": "code",
   "execution_count": 11,
   "metadata": {},
   "outputs": [
    {
     "data": {
      "text/html": [
       "<div>\n",
       "<style scoped>\n",
       "    .dataframe tbody tr th:only-of-type {\n",
       "        vertical-align: middle;\n",
       "    }\n",
       "\n",
       "    .dataframe tbody tr th {\n",
       "        vertical-align: top;\n",
       "    }\n",
       "\n",
       "    .dataframe thead th {\n",
       "        text-align: right;\n",
       "    }\n",
       "</style>\n",
       "<table border=\"1\" class=\"dataframe\">\n",
       "  <thead>\n",
       "    <tr style=\"text-align: right;\">\n",
       "      <th></th>\n",
       "      <th>userId</th>\n",
       "      <th>movieId</th>\n",
       "      <th>rating</th>\n",
       "      <th>average_rating</th>\n",
       "      <th>Comedy</th>\n",
       "      <th>Drama</th>\n",
       "      <th>Crime</th>\n",
       "      <th>Thriller</th>\n",
       "      <th>War</th>\n",
       "      <th>Mystery</th>\n",
       "      <th>...</th>\n",
       "      <th>Adventure</th>\n",
       "      <th>Children</th>\n",
       "      <th>Fantasy</th>\n",
       "      <th>Animation</th>\n",
       "      <th>Horror</th>\n",
       "      <th>Romance</th>\n",
       "      <th>Musical</th>\n",
       "      <th>Western</th>\n",
       "      <th>Film-Noir</th>\n",
       "      <th>total_genres</th>\n",
       "    </tr>\n",
       "  </thead>\n",
       "  <tbody>\n",
       "    <tr>\n",
       "      <th>0</th>\n",
       "      <td>2</td>\n",
       "      <td>60756</td>\n",
       "      <td>5.0</td>\n",
       "      <td>4.187500</td>\n",
       "      <td>1</td>\n",
       "      <td>0</td>\n",
       "      <td>0</td>\n",
       "      <td>0</td>\n",
       "      <td>0</td>\n",
       "      <td>0</td>\n",
       "      <td>...</td>\n",
       "      <td>0</td>\n",
       "      <td>0</td>\n",
       "      <td>0</td>\n",
       "      <td>0</td>\n",
       "      <td>0</td>\n",
       "      <td>0</td>\n",
       "      <td>0</td>\n",
       "      <td>0</td>\n",
       "      <td>0</td>\n",
       "      <td>1</td>\n",
       "    </tr>\n",
       "    <tr>\n",
       "      <th>1</th>\n",
       "      <td>2</td>\n",
       "      <td>60756</td>\n",
       "      <td>5.0</td>\n",
       "      <td>4.187500</td>\n",
       "      <td>1</td>\n",
       "      <td>0</td>\n",
       "      <td>0</td>\n",
       "      <td>0</td>\n",
       "      <td>0</td>\n",
       "      <td>0</td>\n",
       "      <td>...</td>\n",
       "      <td>0</td>\n",
       "      <td>0</td>\n",
       "      <td>0</td>\n",
       "      <td>0</td>\n",
       "      <td>0</td>\n",
       "      <td>0</td>\n",
       "      <td>0</td>\n",
       "      <td>0</td>\n",
       "      <td>0</td>\n",
       "      <td>1</td>\n",
       "    </tr>\n",
       "    <tr>\n",
       "      <th>2</th>\n",
       "      <td>2</td>\n",
       "      <td>60756</td>\n",
       "      <td>5.0</td>\n",
       "      <td>4.187500</td>\n",
       "      <td>1</td>\n",
       "      <td>0</td>\n",
       "      <td>0</td>\n",
       "      <td>0</td>\n",
       "      <td>0</td>\n",
       "      <td>0</td>\n",
       "      <td>...</td>\n",
       "      <td>0</td>\n",
       "      <td>0</td>\n",
       "      <td>0</td>\n",
       "      <td>0</td>\n",
       "      <td>0</td>\n",
       "      <td>0</td>\n",
       "      <td>0</td>\n",
       "      <td>0</td>\n",
       "      <td>0</td>\n",
       "      <td>1</td>\n",
       "    </tr>\n",
       "    <tr>\n",
       "      <th>3</th>\n",
       "      <td>2</td>\n",
       "      <td>89774</td>\n",
       "      <td>5.0</td>\n",
       "      <td>5.000000</td>\n",
       "      <td>0</td>\n",
       "      <td>1</td>\n",
       "      <td>0</td>\n",
       "      <td>0</td>\n",
       "      <td>0</td>\n",
       "      <td>0</td>\n",
       "      <td>...</td>\n",
       "      <td>0</td>\n",
       "      <td>0</td>\n",
       "      <td>0</td>\n",
       "      <td>0</td>\n",
       "      <td>0</td>\n",
       "      <td>0</td>\n",
       "      <td>0</td>\n",
       "      <td>0</td>\n",
       "      <td>0</td>\n",
       "      <td>1</td>\n",
       "    </tr>\n",
       "    <tr>\n",
       "      <th>4</th>\n",
       "      <td>2</td>\n",
       "      <td>89774</td>\n",
       "      <td>5.0</td>\n",
       "      <td>5.000000</td>\n",
       "      <td>0</td>\n",
       "      <td>1</td>\n",
       "      <td>0</td>\n",
       "      <td>0</td>\n",
       "      <td>0</td>\n",
       "      <td>0</td>\n",
       "      <td>...</td>\n",
       "      <td>0</td>\n",
       "      <td>0</td>\n",
       "      <td>0</td>\n",
       "      <td>0</td>\n",
       "      <td>0</td>\n",
       "      <td>0</td>\n",
       "      <td>0</td>\n",
       "      <td>0</td>\n",
       "      <td>0</td>\n",
       "      <td>1</td>\n",
       "    </tr>\n",
       "    <tr>\n",
       "      <th>...</th>\n",
       "      <td>...</td>\n",
       "      <td>...</td>\n",
       "      <td>...</td>\n",
       "      <td>...</td>\n",
       "      <td>...</td>\n",
       "      <td>...</td>\n",
       "      <td>...</td>\n",
       "      <td>...</td>\n",
       "      <td>...</td>\n",
       "      <td>...</td>\n",
       "      <td>...</td>\n",
       "      <td>...</td>\n",
       "      <td>...</td>\n",
       "      <td>...</td>\n",
       "      <td>...</td>\n",
       "      <td>...</td>\n",
       "      <td>...</td>\n",
       "      <td>...</td>\n",
       "      <td>...</td>\n",
       "      <td>...</td>\n",
       "      <td>...</td>\n",
       "    </tr>\n",
       "    <tr>\n",
       "      <th>3471</th>\n",
       "      <td>606</td>\n",
       "      <td>6107</td>\n",
       "      <td>4.0</td>\n",
       "      <td>4.000000</td>\n",
       "      <td>0</td>\n",
       "      <td>1</td>\n",
       "      <td>0</td>\n",
       "      <td>0</td>\n",
       "      <td>1</td>\n",
       "      <td>0</td>\n",
       "      <td>...</td>\n",
       "      <td>0</td>\n",
       "      <td>0</td>\n",
       "      <td>0</td>\n",
       "      <td>0</td>\n",
       "      <td>0</td>\n",
       "      <td>0</td>\n",
       "      <td>0</td>\n",
       "      <td>0</td>\n",
       "      <td>0</td>\n",
       "      <td>2</td>\n",
       "    </tr>\n",
       "    <tr>\n",
       "      <th>3472</th>\n",
       "      <td>606</td>\n",
       "      <td>7382</td>\n",
       "      <td>4.5</td>\n",
       "      <td>4.166667</td>\n",
       "      <td>0</td>\n",
       "      <td>1</td>\n",
       "      <td>0</td>\n",
       "      <td>1</td>\n",
       "      <td>0</td>\n",
       "      <td>1</td>\n",
       "      <td>...</td>\n",
       "      <td>0</td>\n",
       "      <td>0</td>\n",
       "      <td>0</td>\n",
       "      <td>0</td>\n",
       "      <td>0</td>\n",
       "      <td>0</td>\n",
       "      <td>0</td>\n",
       "      <td>0</td>\n",
       "      <td>0</td>\n",
       "      <td>3</td>\n",
       "    </tr>\n",
       "    <tr>\n",
       "      <th>3473</th>\n",
       "      <td>610</td>\n",
       "      <td>3265</td>\n",
       "      <td>5.0</td>\n",
       "      <td>5.000000</td>\n",
       "      <td>0</td>\n",
       "      <td>1</td>\n",
       "      <td>1</td>\n",
       "      <td>1</td>\n",
       "      <td>0</td>\n",
       "      <td>0</td>\n",
       "      <td>...</td>\n",
       "      <td>0</td>\n",
       "      <td>0</td>\n",
       "      <td>0</td>\n",
       "      <td>0</td>\n",
       "      <td>0</td>\n",
       "      <td>0</td>\n",
       "      <td>0</td>\n",
       "      <td>0</td>\n",
       "      <td>0</td>\n",
       "      <td>4</td>\n",
       "    </tr>\n",
       "    <tr>\n",
       "      <th>3474</th>\n",
       "      <td>610</td>\n",
       "      <td>3265</td>\n",
       "      <td>5.0</td>\n",
       "      <td>5.000000</td>\n",
       "      <td>0</td>\n",
       "      <td>1</td>\n",
       "      <td>1</td>\n",
       "      <td>1</td>\n",
       "      <td>0</td>\n",
       "      <td>0</td>\n",
       "      <td>...</td>\n",
       "      <td>0</td>\n",
       "      <td>0</td>\n",
       "      <td>0</td>\n",
       "      <td>0</td>\n",
       "      <td>0</td>\n",
       "      <td>0</td>\n",
       "      <td>0</td>\n",
       "      <td>0</td>\n",
       "      <td>0</td>\n",
       "      <td>4</td>\n",
       "    </tr>\n",
       "    <tr>\n",
       "      <th>3475</th>\n",
       "      <td>610</td>\n",
       "      <td>168248</td>\n",
       "      <td>5.0</td>\n",
       "      <td>4.562500</td>\n",
       "      <td>0</td>\n",
       "      <td>0</td>\n",
       "      <td>1</td>\n",
       "      <td>1</td>\n",
       "      <td>0</td>\n",
       "      <td>0</td>\n",
       "      <td>...</td>\n",
       "      <td>0</td>\n",
       "      <td>0</td>\n",
       "      <td>0</td>\n",
       "      <td>0</td>\n",
       "      <td>0</td>\n",
       "      <td>0</td>\n",
       "      <td>0</td>\n",
       "      <td>0</td>\n",
       "      <td>0</td>\n",
       "      <td>3</td>\n",
       "    </tr>\n",
       "  </tbody>\n",
       "</table>\n",
       "<p>3476 rows × 24 columns</p>\n",
       "</div>"
      ],
      "text/plain": [
       "      userId  movieId  rating  average_rating  Comedy  Drama  Crime  Thriller  \\\n",
       "0          2    60756     5.0        4.187500       1      0      0         0   \n",
       "1          2    60756     5.0        4.187500       1      0      0         0   \n",
       "2          2    60756     5.0        4.187500       1      0      0         0   \n",
       "3          2    89774     5.0        5.000000       0      1      0         0   \n",
       "4          2    89774     5.0        5.000000       0      1      0         0   \n",
       "...      ...      ...     ...             ...     ...    ...    ...       ...   \n",
       "3471     606     6107     4.0        4.000000       0      1      0         0   \n",
       "3472     606     7382     4.5        4.166667       0      1      0         1   \n",
       "3473     610     3265     5.0        5.000000       0      1      1         1   \n",
       "3474     610     3265     5.0        5.000000       0      1      1         1   \n",
       "3475     610   168248     5.0        4.562500       0      0      1         1   \n",
       "\n",
       "      War  Mystery  ...  Adventure  Children  Fantasy  Animation  Horror  \\\n",
       "0       0        0  ...          0         0        0          0       0   \n",
       "1       0        0  ...          0         0        0          0       0   \n",
       "2       0        0  ...          0         0        0          0       0   \n",
       "3       0        0  ...          0         0        0          0       0   \n",
       "4       0        0  ...          0         0        0          0       0   \n",
       "...   ...      ...  ...        ...       ...      ...        ...     ...   \n",
       "3471    1        0  ...          0         0        0          0       0   \n",
       "3472    0        1  ...          0         0        0          0       0   \n",
       "3473    0        0  ...          0         0        0          0       0   \n",
       "3474    0        0  ...          0         0        0          0       0   \n",
       "3475    0        0  ...          0         0        0          0       0   \n",
       "\n",
       "      Romance  Musical  Western  Film-Noir  total_genres  \n",
       "0           0        0        0          0             1  \n",
       "1           0        0        0          0             1  \n",
       "2           0        0        0          0             1  \n",
       "3           0        0        0          0             1  \n",
       "4           0        0        0          0             1  \n",
       "...       ...      ...      ...        ...           ...  \n",
       "3471        0        0        0          0             2  \n",
       "3472        0        0        0          0             3  \n",
       "3473        0        0        0          0             4  \n",
       "3474        0        0        0          0             4  \n",
       "3475        0        0        0          0             3  \n",
       "\n",
       "[3476 rows x 24 columns]"
      ]
     },
     "execution_count": 11,
     "metadata": {},
     "output_type": "execute_result"
    }
   ],
   "source": [
    "new_merged_data['total_genres'] = new_merged_data.iloc[:, 4:].sum(axis=1)\n",
    "new_merged_data\n"
   ]
  },
  {
   "cell_type": "markdown",
   "metadata": {},
   "source": [
    "Preparing the new_merged_data DataFrame by filling missing values, extracting genre columns, and standardizing the numerical features."
   ]
  },
  {
   "cell_type": "code",
   "execution_count": 12,
   "metadata": {},
   "outputs": [],
   "source": [
    "new_merged_data.fillna(0, inplace=True)\n",
    "genre_columns = new_merged_data.columns[4:-1].to_list()\n",
    "numerical_features = ['rating', 'average_rating', 'total_genres']\n",
    "scaler = StandardScaler()\n",
    "new_merged_data[numerical_features] = scaler.fit_transform(new_merged_data[numerical_features])"
   ]
  },
  {
   "cell_type": "markdown",
   "metadata": {},
   "source": [
    "Defining a function rule_based_rating that calculates a rating for a given user and movie pair based on rule-based logic, then the function predicts a rating for a user-movie pair by considering the user's genre preferences and their average rating."
   ]
  },
  {
   "cell_type": "code",
   "execution_count": 13,
   "metadata": {},
   "outputs": [],
   "source": [
    "def rule_based_rating(user_id, movie_id):\n",
    "    user_data = new_merged_data[new_merged_data['userId'] == user_id]\n",
    "    movie_data = new_merged_data[new_merged_data['movieId'] == movie_id]\n",
    "    \n",
    "    if user_data.empty or movie_data.empty:\n",
    "        return None  \n",
    "    \n",
    "    \n",
    "    user_genre_preferences = user_data[genre_columns].mean()\n",
    "    movie_genres = movie_data[genre_columns].iloc[0]\n",
    "    \n",
    "    score = (user_genre_preferences * movie_genres).sum()\n",
    "    average_user_rating = user_data['rating'].mean()\n",
    "    \n",
    "    rating = score + average_user_rating\n",
    "    return rating"
   ]
  },
  {
   "cell_type": "markdown",
   "metadata": {},
   "source": [
    " We predict a rating for a user-movie pair by clustering users based on their features, identifying the user's cluster, and finding the closest movie in that cluster to predict the rating."
   ]
  },
  {
   "cell_type": "code",
   "execution_count": 14,
   "metadata": {},
   "outputs": [],
   "source": [
    "def clustering_based_rating(user_id, movie_id):\n",
    "    user_features = new_merged_data[['userId'] + numerical_features + genre_columns].drop_duplicates()\n",
    "    \n",
    "    if user_features.empty:\n",
    "        return None  \n",
    "    \n",
    "    \n",
    "    kmeans = KMeans(n_clusters=10, random_state=42)\n",
    "    kmeans.fit(user_features.drop(columns=['userId']))\n",
    "    \n",
    "    user_data = user_features[user_features['userId'] == user_id]\n",
    "    if user_data.empty:\n",
    "        return None  \n",
    "    \n",
    "    user_cluster = kmeans.predict(user_data.drop(columns=['userId']))\n",
    "    cluster_center = kmeans.cluster_centers_[user_cluster]\n",
    "    \n",
    "    movie_features = new_merged_data[['movieId'] + numerical_features + genre_columns].drop_duplicates()\n",
    "    if movie_features.empty:\n",
    "        return None  \n",
    "    \n",
    "    movie_data = movie_features[movie_features['movieId'] == movie_id]\n",
    "    if movie_data.empty:\n",
    "        return None  \n",
    "    \n",
    "    movie_features['cluster_distance'] = pairwise_distances_argmin_min(movie_features.drop(columns=['movieId']), cluster_center)[0]\n",
    "    \n",
    "    closest_movie = movie_features.loc[movie_features['cluster_distance'].idxmin()]\n",
    "    predicted_rating = closest_movie['rating']\n",
    "    return predicted_rating"
   ]
  },
  {
   "cell_type": "markdown",
   "metadata": {},
   "source": [
    "The combined_rating function calculates a final rating for a user-movie pair by averaging the rule-based and clustering-based ratings, and then denormalizes this combined rating to return it in its original scale."
   ]
  },
  {
   "cell_type": "code",
   "execution_count": 15,
   "metadata": {},
   "outputs": [],
   "source": [
    "def combined_rating(user_id, movie_id):\n",
    "    rule_rating = rule_based_rating(user_id, movie_id)\n",
    "    clustering_rating = clustering_based_rating(user_id, movie_id)\n",
    "    \n",
    "    if rule_rating is None or clustering_rating is None:\n",
    "        return None  \n",
    "    \n",
    "    combined_rating = (rule_rating + clustering_rating) / 2\n",
    "    denormalized_rating = combined_rating * scaler.scale_[0] + scaler.mean_[0]\n",
    "    return denormalized_rating"
   ]
  },
  {
   "cell_type": "code",
   "execution_count": 16,
   "metadata": {},
   "outputs": [],
   "source": [
    "from sklearn.metrics import mean_absolute_error, mean_squared_error\n",
    "\n",
    "def evaluate_model():\n",
    "    test_data = new_merged_data.sample(frac=0.2, random_state=42)\n",
    "    test_data = test_data[['userId', 'movieId', 'rating']]\n",
    "    test_data['predicted_rating'] = test_data.apply(lambda x: combined_rating(x['userId'], x['movieId']), axis=1)\n",
    "    \n",
    "    mae = mean_absolute_error(test_data['rating'], test_data['predicted_rating'])\n",
    "    rmse = mean_squared_error(test_data['rating'], test_data['predicted_rating'], squared=False)\n",
    "    \n",
    "    return mae, rmse\n",
    "\n"
   ]
  },
  {
   "cell_type": "markdown",
   "metadata": {},
   "source": [
    "Evaluating the performance of our recommender system using two common metrics: Mean Absolute Error (MAE) and Root Mean Squared Error (RMSE)."
   ]
  },
  {
   "cell_type": "code",
   "execution_count": 23,
   "metadata": {},
   "outputs": [
    {
     "name": "stdout",
     "output_type": "stream",
     "text": [
      "Mean Absolute Error: 4.198124669464954\n",
      "Root Mean Squared Error: 4.309352556356485\n"
     ]
    },
    {
     "name": "stderr",
     "output_type": "stream",
     "text": [
      "c:\\Users\\patri\\Python\\Lib\\site-packages\\sklearn\\metrics\\_regression.py:483: FutureWarning: 'squared' is deprecated in version 1.4 and will be removed in 1.6. To calculate the root mean squared error, use the function'root_mean_squared_error'.\n",
      "  warnings.warn(\n"
     ]
    }
   ],
   "source": [
    "mae, rmse = evaluate_model()\n",
    "print(f'Mean Absolute Error: {mae}')\n",
    "print(f'Root Mean Squared Error: {rmse}')\n"
   ]
  },
  {
   "cell_type": "markdown",
   "metadata": {},
   "source": [
    "Testing the model for a certain user_id and movie_id to get the predicted rating"
   ]
  },
  {
   "cell_type": "code",
   "execution_count": 20,
   "metadata": {},
   "outputs": [
    {
     "name": "stdout",
     "output_type": "stream",
     "text": [
      "Predicted rating for user 336 and movie 176419 is 3.722089683639987\n"
     ]
    }
   ],
   "source": [
    "user_id = 336\n",
    "movie_id = 176419\n",
    "predicted_rating = combined_rating(user_id, movie_id)\n",
    "print(f'Predicted rating for user {user_id} and movie {movie_id} is {predicted_rating}')"
   ]
  }
 ],
 "metadata": {
  "kernelspec": {
   "display_name": "Python 3",
   "language": "python",
   "name": "python3"
  },
  "language_info": {
   "codemirror_mode": {
    "name": "ipython",
    "version": 3
   },
   "file_extension": ".py",
   "mimetype": "text/x-python",
   "name": "python",
   "nbconvert_exporter": "python",
   "pygments_lexer": "ipython3",
   "version": "3.11.9"
  }
 },
 "nbformat": 4,
 "nbformat_minor": 2
}
